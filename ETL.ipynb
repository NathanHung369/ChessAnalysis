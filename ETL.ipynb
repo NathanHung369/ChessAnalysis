{
 "cells": [
  {
   "cell_type": "code",
   "execution_count": 104,
   "metadata": {},
   "outputs": [],
   "source": [
    "import re\n",
    "import pandas as pd\n",
    "import numpy as np\n",
    "import psycopg2.extras as extras\n",
    "import psycopg2"
   ]
  },
  {
   "cell_type": "code",
   "execution_count": 105,
   "metadata": {},
   "outputs": [],
   "source": [
    "chess_data = open(\"chess.pgn\").read()"
   ]
  },
  {
   "cell_type": "code",
   "execution_count": 106,
   "metadata": {},
   "outputs": [],
   "source": [
    "#regex\n",
    "date_regex = \"(?<=\\[Date \\\")(.*)(?=\\\"])\"\n",
    "white_regex = \"(?<=\\[White \\\")(.*)(?=\\\"])\"\n",
    "black_regex = \"(?<=\\[Black \\\")(.*)(?=\\\"])\"\n",
    "result_score_regex = \"(?<=\\[Result \\\")(.*)(?=\\\"])\"\n",
    "match_time_regex = \"(?<=\\[TimeControl \\\")(.*)(?=\\\"])\"\n",
    "end_result = \"(?<=\\[Termination \\\")(.*)(?=\\\"])\""
   ]
  },
  {
   "cell_type": "code",
   "execution_count": 107,
   "metadata": {},
   "outputs": [],
   "source": [
    "dates = re.findall(date_regex, chess_data)\n",
    "white_player = re.findall(white_regex, chess_data)\n",
    "black_player = re.findall(black_regex, chess_data)\n",
    "result_score = re.findall(result_score_regex, chess_data)\n",
    "match_time_and_inc = re.findall(match_time_regex, chess_data)\n",
    "end_result = re.findall(end_result, chess_data)\n",
    "\n",
    "if_white_won = list(map(lambda s: s[0], result_score))\n",
    "if_black_won = list(map(lambda s: s[2], result_score))"
   ]
  },
  {
   "cell_type": "code",
   "execution_count": 108,
   "metadata": {},
   "outputs": [],
   "source": [
    "start_time_amount = list()\n",
    "increments = list()\n",
    "for time in match_time_and_inc:\n",
    "    if \"+\" in time:\n",
    "        start_time_amount.append(time[:-3])\n",
    "        increments.append(time[-2:])\n",
    "    else:\n",
    "        start_time_amount.append(time)\n",
    "        increments.append(None)\n",
    "    "
   ]
  },
  {
   "cell_type": "code",
   "execution_count": 109,
   "metadata": {},
   "outputs": [],
   "source": [
    "game_ended_by = list()\n",
    "\n",
    "for end_string in end_result:\n",
    "    if \"time\" in end_string:\n",
    "        game_ended_by.append(\"Time\")\n",
    "    elif \"checkmate\" in end_string:\n",
    "        game_ended_by.append(\"Checkmate\")\n",
    "    elif \"game abandoned\" in end_string:\n",
    "        game_ended_by.append(\"Abandoned\")\n",
    "    elif \"drawn by agreement\" in end_string:\n",
    "        game_ended_by.append(\"Drawn by Aggreement\")\n",
    "    elif \"stalemate\" in end_string:\n",
    "        game_ended_by.append(\"Stalemate\")\n",
    "    elif \"resignation\" in end_string:\n",
    "        game_ended_by.append(\"Resignation\")\n",
    "    else:\n",
    "        game_ended_by.append(None)"
   ]
  },
  {
   "cell_type": "code",
   "execution_count": 110,
   "metadata": {},
   "outputs": [
    {
     "name": "stdout",
     "output_type": "stream",
     "text": [
      "[5, 5, 5, 5, 5, 5, 5, 5, 5, 5, 10, 10, 10, 10, 10, 10, 10, 10, 10, 15, 10, 10, 5, 10, 10, 10, 8, 10, 10, 10, 10, 10, 10, 10, 10, 10, 10, 10, 10, 5, 10, 10, 10, 10, 10, 20, 10, 15, 1, 15]\n"
     ]
    }
   ],
   "source": [
    "start_time_amount_minutes = list(map(lambda n: int(n)//60, start_time_amount))\n",
    "print(start_time_amount_minutes)"
   ]
  },
  {
   "cell_type": "code",
   "execution_count": 111,
   "metadata": {},
   "outputs": [],
   "source": [
    "chess_final_data = pd.DataFrame(\n",
    "    {\n",
    "        'datePlayed': dates,\n",
    "        'whitePlayer': white_player,\n",
    "        'blackPlayer': black_player,\n",
    "        'ifWhiteWon': if_white_won,\n",
    "        'ifBlackWon': if_black_won,\n",
    "        'startTimeSeconds': start_time_amount,\n",
    "        'secondIncrements': increments,\n",
    "        'startTimeMinutes': start_time_amount_minutes \n",
    "    }\n",
    ")"
   ]
  },
  {
   "cell_type": "code",
   "execution_count": 112,
   "metadata": {},
   "outputs": [],
   "source": [
    "chess_final_data[['ifWhiteWon', 'ifBlackWon', 'startTimeSeconds', 'secondIncrements', 'startTimeMinutes']] = chess_final_data[['ifWhiteWon', 'ifBlackWon', 'startTimeSeconds', 'secondIncrements', 'startTimeMinutes']].apply(pd.to_numeric)\n",
    "chess_final_data['datePlayed'] = pd.to_datetime(chess_final_data['datePlayed'])\n",
    "chess_final_data['secondIncrements'] = chess_final_data['secondIncrements'].fillna(0.0).astype(int)"
   ]
  },
  {
   "cell_type": "code",
   "execution_count": 113,
   "metadata": {},
   "outputs": [
    {
     "name": "stdout",
     "output_type": "stream",
     "text": [
      "the dataframe is inserted\n"
     ]
    }
   ],
   "source": [
    "conn_string = open(\"connectionString.txt\").read()\n",
    "def execute_values(conn, df, table):\n",
    "  \n",
    "    tuples = [tuple(x) for x in df.to_numpy()]\n",
    "  \n",
    "    cols = ','.join(list(df.columns))\n",
    "    # SQL query to execute\n",
    "    query = \"INSERT INTO %s(%s) VALUES %%s\" % (table, cols)\n",
    "    cursor = conn.cursor()\n",
    "    try:\n",
    "        extras.execute_values(cursor, query, tuples)\n",
    "        conn.commit()\n",
    "    except (Exception, psycopg2.DatabaseError) as error:\n",
    "        print(\"Error: %s\" % error)\n",
    "        conn.rollback()\n",
    "        cursor.close()\n",
    "        return 1\n",
    "    print(\"the dataframe is inserted\")\n",
    "    cursor.close()\n",
    "  \n",
    "conn_string = open(\"connectionString.txt\").read()\n",
    "  \n",
    "conn = psycopg2.connect(\n",
    "   conn_string\n",
    ")\n",
    "  \n",
    "execute_values(conn, chess_final_data, 'Chess')"
   ]
  },
  {
   "cell_type": "code",
   "execution_count": 114,
   "metadata": {},
   "outputs": [
    {
     "data": {
      "text/plain": [
       "'\\nCREATE TABLE CHESS (\\n   datePlayed date, \\n   whitePlayer varchar,\\n   blackPlayer varchar,\\n   ifWhiteWon int,\\n   ifBlackWon int,\\n   startTimeSeconds int,\\n   secondIncrements int,\\n   startTimeMinutes int\\n)\\n\\n'"
      ]
     },
     "execution_count": 114,
     "metadata": {},
     "output_type": "execute_result"
    }
   ],
   "source": [
    "\"\"\"\n",
    "CREATE TABLE CHESS (\n",
    "   datePlayed date, \n",
    "   whitePlayer varchar,\n",
    "   blackPlayer varchar,\n",
    "   ifWhiteWon int,\n",
    "   ifBlackWon int,\n",
    "   startTimeSeconds int,\n",
    "   secondIncrements int,\n",
    "   startTimeMinutes int\n",
    ")\n",
    "\n",
    "\"\"\""
   ]
  }
 ],
 "metadata": {
  "kernelspec": {
   "display_name": "Python 3",
   "language": "python",
   "name": "python3"
  },
  "language_info": {
   "codemirror_mode": {
    "name": "ipython",
    "version": 3
   },
   "file_extension": ".py",
   "mimetype": "text/x-python",
   "name": "python",
   "nbconvert_exporter": "python",
   "pygments_lexer": "ipython3",
   "version": "3.9.7"
  },
  "orig_nbformat": 4
 },
 "nbformat": 4,
 "nbformat_minor": 2
}
